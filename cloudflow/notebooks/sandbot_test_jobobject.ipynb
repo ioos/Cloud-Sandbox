{
 "cells": [
  {
   "cell_type": "code",
   "execution_count": null,
   "metadata": {},
   "outputs": [],
   "source": [
    "import sys\n",
    "import os\n",
    "import boto3\n",
    "import cmocean\n",
    "import cartopy.crs as ccrs\n",
    "import cartopy.feature as cfeature\n",
    "from datetime import datetime\n",
    "import matplotlib.pyplot as plt\n",
    "import numpy as np\n",
    "from xarray import open_mfdataset\n",
    "from cloudflow.services.S3Storage import S3Storage\n",
    "from cloudflow.job.Plotting import Plotting\n"
   ]
  },
  {
   "cell_type": "code",
   "execution_count": null,
   "metadata": {},
   "outputs": [],
   "source": [
    "def make_indexhtml(indexfile : str, imagelist : list):\n",
    "\n",
    "    htmlhead = '''<html xmlns=\"http://www.w3.org/1999/xhtml\">\n",
    "                  <meta http-equiv=\"Cache-control\" content=\"no-cache\">\n",
    "                  <head>\n",
    "                  <title>Cloud-Sandbot</title>'''\n",
    "\n",
    "    htmlbody = '<body>\\n'\n",
    "    for image in imagelist:\n",
    "       imagehtml = f'<img src=\"{image}\">\\n'\n",
    "       htmlbody += imagehtml\n",
    "\n",
    "    htmlbody += '</body>\\n'\n",
    "    html = f'''{htmlhead}\n",
    "               {htmlbody}\n",
    "               </html>'''\n",
    "\n",
    "    with open(indexfile, 'w') as index:\n",
    "        index.write(html) \n",
    "        "
   ]
  },
  {
   "cell_type": "code",
   "execution_count": null,
   "metadata": {},
   "outputs": [],
   "source": [
    "def roms_nosofs(COMDIR: str, OFS: str, HH: str):\n",
    "    '''Load ROMS NOSOFS dataset'''\n",
    "\n",
    "    # Should not use single leterr variable names\n",
    "    # Choose a name that describes what it is\n",
    "    # Why load in the entire dataset when only plotting one time slice? \n",
    "    # It is extremely slow!\n",
    "    #  nos.gomofs.fields.f006.20200819.t00z.nc\n",
    "    filespec = f'{COMDIR}/nos.{OFS}.fields.f00*.t{HH}z.nc'\n",
    "    print(f'filespec is: {filespec}')\n",
    "    return open_mfdataset(filespec, decode_times=False, combine='by_coords')\n"
   ]
  },
  {
   "cell_type": "code",
   "execution_count": null,
   "metadata": {},
   "outputs": [],
   "source": [
    "def plot_rho(ds, variable, s3upload=False) -> str:\n",
    "    \n",
    "    if variable == 'zeta':\n",
    "        da = ds[variable].isel(ocean_time=0)\n",
    "        cmap = cmocean.cm.phase\n",
    "    if variable == 'temp':\n",
    "        da = ds[variable].isel(ocean_time=0, s_rho=0)\n",
    "        cmap = cmocean.cm.thermal\n",
    "    if variable == 'salt':\n",
    "        da = ds[variable].isel(ocean_time=0, s_rho=0)\n",
    "        cmap = cmocean.cm.haline\n",
    "    if variable == 'oxygen':\n",
    "        da = ds[variable].isel(ocean_time=0, s_rho=0)\n",
    "        cmap = cmocean.cm.oxy\n",
    "    if variable == 'Pair':\n",
    "        da = ds[variable].isel(ocean_time=0)\n",
    "        cmap = cmocean.cm.diff\n",
    "      \n",
    "    fig = plt.figure(figsize=(12,5))\n",
    "    ax = fig.add_axes([0,0,1,1], projection=ccrs.PlateCarree())\n",
    "    im = ax.contourf(da.lon_rho, da.lat_rho, da.values,\n",
    "                     transform=ccrs.PlateCarree(), \n",
    "                     cmap=cmap)\n",
    "    \n",
    "    coast_10m = cfeature.NaturalEarthFeature(\n",
    "        'physical', 'land', '10m',\n",
    "        edgecolor='k', facecolor='0.8'\n",
    "    )\n",
    "    ax.add_feature(coast_10m);\n",
    "    \n",
    "    title = ds.attrs['title']\n",
    "    history = ds.history\n",
    "    now = datetime.now().strftime(\"%m/%d/%Y, %H:%M:%S\")\n",
    "    print(now)\n",
    "    ax.set_title(f\"Image generated on {now}\\n\\n{title}\\n{history}\");\n",
    "    \n",
    "    cbar = fig.colorbar(im, ax=ax)\n",
    "    long_name = da.attrs['long_name']\n",
    "    if variable != 'salt':\n",
    "        units = da.attrs['units']\n",
    "        cbar.set_label(f'{long_name} ({units})')\n",
    "    else:\n",
    "        cbar.set_label(f'{long_name}')\n",
    "    \n",
    "    indexfile = f'docs/index.html'\n",
    "    outfile = f'docs/{variable}.png'\n",
    "    \n",
    "    if not os.path.exists('./docs'):\n",
    "        os.makedirs('./docs')\n",
    "\n",
    "    imagename = outfile.split('/')[-1]\n",
    "\n",
    "    plt.savefig(outfile, bbox_inches='tight')\n",
    "             \n",
    "    if s3upload:\n",
    "        s3 = S3Storage()\n",
    "        bucket = 'ioos-cloud-www'\n",
    "        s3.uploadFile(outfile, bucket, f'{variable}.png', public = True)\n",
    "\n",
    "    return imagename\n"
   ]
  },
  {
   "cell_type": "code",
   "execution_count": null,
   "metadata": {},
   "outputs": [],
   "source": [
    "def main(job: Plotting):\n",
    "\n",
    "    COMDIR = job.INDIR\n",
    "    OFS = job.OFS\n",
    "    HH = job.HH\n",
    "    rho_vars = job.VARS\n",
    "\n",
    "    print(f'COMDIR is: {COMDIR}')\n",
    "    print(f'OFS is: {OFS}')\n",
    "    print(f'HH is: {HH}')\n",
    "    print('Running ...')\n",
    "\n",
    "    # could check that this is a roms model\n",
    "    # if ofs in utils.roms_models then do roms\n",
    "    # else if ofs in utils.fvcom_models then do fvcom\n",
    "\n",
    "    ds_roms = roms_nosofs(COMDIR, OFS, HH)\n",
    "    indexfile = f'docs/index.html'\n",
    "    if not os.path.exists('./docs'):\n",
    "        os.makedirs('./docs')\n",
    "\n",
    "    bucket = 'ioos-cloud-www'\n",
    "\n",
    "    storageService = S3Storage()\n",
    "\n",
    "    #rho_vars = ['temp',\"zeta\", \"salt\" ]\n",
    "\n",
    "    imagelist = []\n",
    "\n",
    "    for var in rho_vars:\n",
    "        imagename = plot_rho(ds_roms, var, s3upload=True)\n",
    "        imagelist.append(imagename)\n",
    "\n",
    "    make_indexhtml(indexfile, imagelist)\n",
    "    storageService.uploadFile(indexfile, bucket, 'index.html', public=True, text=True)\n",
    "    \n",
    "    print('Finished ...')\n",
    "    # return ds_roms\n",
    "    "
   ]
  },
  {
   "cell_type": "code",
   "execution_count": null,
   "metadata": {},
   "outputs": [],
   "source": [
    "''' We're still looking for a way to not have to do something like this.\n",
    "We really want this job to run without having to specify any parameters.\n",
    "'''\n",
    "jobfile = 'plotting_job.json'\n",
    "NPROCS = 1\n",
    "testjob = Plotting(jobfile, 1)\n",
    "main(testjob)"
   ]
  },
  {
   "cell_type": "code",
   "execution_count": 50,
   "metadata": {},
   "outputs": [
    {
     "name": "stdout",
     "output_type": "stream",
     "text": [
      "[2020-08-20 10:18:50,315] INFO - flow_runner.run | Beginning Flow run for 'notebook test'\n",
      "[2020-08-20 10:18:50,321] INFO - flow_runner.set_flow_to_running | Starting flow run.\n",
      "[2020-08-20 10:18:50,350] INFO - task_runner.run | Task 'run_pynotebook': Starting task run...\n"
     ]
    },
    {
     "name": "stderr",
     "output_type": "stream",
     "text": [
      " 2020-08-20 10:18:50,351  INFO - tasks.run_pynotebook | Running sandbot_test_jobobject.py\n"
     ]
    },
    {
     "name": "stdout",
     "output_type": "stream",
     "text": [
      "{\n",
      "    \"JOBTYPE\": \"plotting_diff\",\n",
      "    \"OFS\": \"gomofs\",\n",
      "    \"CDATE\": \"20200819\",\n",
      "    \"HH\": \"00\",\n",
      "    \"INDIR\": \"auto\",\n",
      "    \"OUTDIR\": \"auto\",\n",
      "    \"VERIFDIR\": \"auto\",\n",
      "    \"VARS\": [\n",
      "        \"temp\",\n",
      "        \"zeta\",\n",
      "        \"salt\"\n",
      "    ],\n",
      "    \"BUCKET\": \"ioos-cloud-sandbox\",\n",
      "    \"BCKTFLDR\": \"public/nosofs/plots/gomofs\",\n",
      "    \"FSPEC\": \"nos.gomofs.fields.f*t00z.nc\"\n",
      "}\n",
      "{'JOBTYPE': 'plotting_diff', 'OFS': 'gomofs', 'CDATE': '20200819', 'HH': '00', 'INDIR': 'auto', 'OUTDIR': 'auto', 'VERIFDIR': 'auto', 'VARS': ['temp', 'zeta', 'salt'], 'BUCKET': 'ioos-cloud-sandbox', 'BCKTFLDR': 'public/nosofs/plots/gomofs', 'FSPEC': 'nos.gomofs.fields.f*t00z.nc'}\n",
      "COMDIR is: /com/nos/gomofs.2020081900\n",
      "OFS is: gomofs\n",
      "HH is: 00\n",
      "Running ...\n",
      "filespec is: /com/nos/gomofs.2020081900/nos.gomofs.fields.f00*.t00z.nc\n",
      "08/20/2020, 10:18:55\n",
      "08/20/2020, 10:19:02\n",
      "08/20/2020, 10:19:04\n",
      "Finished ...\n",
      "\n",
      "[2020-08-20 10:19:06,102] INFO - task_runner.run | Task 'run_pynotebook': finished task run for task with final state: 'Success'\n",
      "[2020-08-20 10:19:06,104] INFO - flow_runner.determine_final_state | Flow run SUCCESS: all reference tasks succeeded\n"
     ]
    },
    {
     "data": {
      "text/plain": [
       "'PASSED'"
      ]
     },
     "execution_count": 50,
     "metadata": {},
     "output_type": "execute_result"
    }
   ],
   "source": [
    "from cloudflow.workflows import flows\n",
    "\n",
    "flows.inject_notebook()"
   ]
  },
  {
   "cell_type": "code",
   "execution_count": null,
   "metadata": {},
   "outputs": [],
   "source": []
  }
 ],
 "metadata": {
  "kernelspec": {
   "display_name": "Python 3",
   "language": "python",
   "name": "python3"
  },
  "language_info": {
   "codemirror_mode": {
    "name": "ipython",
    "version": 3
   },
   "file_extension": ".py",
   "mimetype": "text/x-python",
   "name": "python",
   "nbconvert_exporter": "python",
   "pygments_lexer": "ipython3",
   "version": "3.7.3"
  }
 },
 "nbformat": 4,
 "nbformat_minor": 4
}
