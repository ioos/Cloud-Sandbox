{
 "cells": [
  {
   "cell_type": "code",
   "execution_count": null,
   "metadata": {},
   "outputs": [],
   "source": [
    " #im = ax.quiver(ds['lon_rho'].values[mask], ds['lat_rho'].values[mask], \n",
    "        #               data_u.values[mask], data_v.values[mask],\n",
    "        #                 transform=ccrs.PlateCarree())\n",
    "               \n",
    "               #regrid_shape=5)\n",
    "        # ERROR\n",
    "        # /opt/tljh/user/lib/python3.7/site-packages/matplotlib/quiver.py:668: \n",
    "        # RuntimeWarning: Mean of empty slice.\n",
    "        # amean = a[~self.Umask].mean()\n",
    "        # /opt/tljh/user/lib/python3.7/site-packages/numpy/core/_methods.py:170: RuntimeWarning: invalid value encountered in double_scalars\n",
    "        # ret = ret.dtype.type(ret / rcount)\n",
    "        #im = ax.quiver(ds.lon_rho.values, ds.lat_rho.values, data_u.values, data_v.values,\n",
    "        #               regrid_shape=2)\n",
    "        \n",
    "        # AttributeError: 'DataArray' object has no attribute 'ravel'\n",
    "        #im = ax.quiver(da.lon_rho, da.lat_rho, data_u, data_v,\n",
    "        #               regrid_shape=2)\n",
    "        # NOPE!!! ERROR \n",
    "        #/opt/tljh/user/lib/python3.7/site-packages/matplotlib/quiver.py:668: RuntimeWarning: Mean of empty slice.\n",
    "        #amean = a[~self.Umask].mean()\n",
    "        #/opt/tljh/user/lib/python3.7/site-packages/numpy/core/_methods.py:170: RuntimeWarning: invalid value encountered in double_scalars\n",
    "        #ret = ret.dtype.type(ret / rcount)\n",
    "\n",
    "        im = ax.quiver(lons.to_pandas().to_numpy(), \n",
    "                       lats.to_pandas().to_numpy(), \n",
    "                       data_u.to_pandas().to_numpy(), \n",
    "                       data_v.to_pandas().to_numpy(),\n",
    "                       regrid_shape=2)\n"
   ]
  }
 ],
 "metadata": {
  "kernelspec": {
   "display_name": "Python 3",
   "language": "python",
   "name": "python3"
  },
  "language_info": {
   "codemirror_mode": {
    "name": "ipython",
    "version": 3
   },
   "file_extension": ".py",
   "mimetype": "text/x-python",
   "name": "python",
   "nbconvert_exporter": "python",
   "pygments_lexer": "ipython3",
   "version": "3.7.7"
  }
 },
 "nbformat": 4,
 "nbformat_minor": 4
}
