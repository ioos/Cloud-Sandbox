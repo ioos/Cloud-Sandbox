{
 "cells": [
  {
   "cell_type": "code",
   "execution_count": null,
   "metadata": {},
   "outputs": [],
   "source": [
    "import sys\n",
    "import os\n",
    "import boto3\n",
    "import cmocean\n",
    "import cartopy.crs as ccrs\n",
    "import cartopy.feature as cfeature\n",
    "from datetime import datetime\n",
    "import matplotlib.pyplot as plt\n",
    "import numpy as np\n",
    "from xarray import open_mfdataset\n",
    "from cloudflow.services.S3Storage import S3Storage\n"
   ]
  },
  {
   "cell_type": "code",
   "execution_count": null,
   "metadata": {},
   "outputs": [],
   "source": [
    "def make_indexhtml(indexfile : str, imagelist : list):\n",
    "\n",
    "    htmlhead = '''<html xmlns=\"http://www.w3.org/1999/xhtml\">\n",
    "                  <head>\n",
    "                  <title>Cloud-Sandbot</title>'''\n",
    "\n",
    "    htmlbody = '<body>\\n'\n",
    "    for image in imagelist:\n",
    "       imagehtml = f'<img src=\"{image}\">\\n'\n",
    "       htmlbody += imagehtml\n",
    "\n",
    "    htmlbody += '</body>\\n'\n",
    "    html = f'''{htmlhead}\n",
    "               {htmlbody}\n",
    "               </html>'''\n",
    "\n",
    "    with open(indexfile, 'w') as index:\n",
    "        index.write(html) \n",
    "        "
   ]
  },
  {
   "cell_type": "code",
   "execution_count": null,
   "metadata": {},
   "outputs": [],
   "source": [
    "def roms_nosofs(COMDIR: str, OFS: str, HH: str):\n",
    "    '''Load ROMS NOSOFS dataset'''\n",
    "\n",
    "    filespec = f'{COMDIR}/nos.{OFS}.fields.f*.t{HH}z.nc'\n",
    "    print(f'filespec is: {filespec}')\n",
    "    return open_mfdataset(filespec, decode_times=False, combine='by_coords')\n"
   ]
  },
  {
   "cell_type": "code",
   "execution_count": null,
   "metadata": {},
   "outputs": [],
   "source": [
    "def plot_rho(ds, variable, s3upload=False) -> str:\n",
    "    \n",
    "    if variable == 'zeta':\n",
    "        da = ds[variable].isel(ocean_time=0)\n",
    "        cmap = cmocean.cm.phase\n",
    "    if variable == 'temp':\n",
    "        da = ds[variable].isel(ocean_time=0, s_rho=0)\n",
    "        cmap = cmocean.cm.thermal\n",
    "    if variable == 'salt':\n",
    "        da = ds[variable].isel(ocean_time=0, s_rho=0)\n",
    "        cmap = cmocean.cm.haline\n",
    "    if variable == 'oxygen':\n",
    "        da = ds[variable].isel(ocean_time=0, s_rho=0)\n",
    "        cmap = cmocean.cm.oxy\n",
    "    if variable == 'Pair':\n",
    "        da = ds[variable].isel(ocean_time=0)\n",
    "        cmap = cmocean.cm.diff\n",
    "      \n",
    "    fig = plt.figure(figsize=(12,5))\n",
    "    ax = fig.add_axes([0,0,1,1], projection=ccrs.PlateCarree())\n",
    "    im = ax.contourf(da.lon_rho, da.lat_rho, da.values,\n",
    "                     transform=ccrs.PlateCarree(), \n",
    "                     cmap=cmap)\n",
    "    \n",
    "    coast_10m = cfeature.NaturalEarthFeature(\n",
    "        'physical', 'land', '10m',\n",
    "        edgecolor='k', facecolor='0.8'\n",
    "    )\n",
    "    ax.add_feature(coast_10m);\n",
    "    \n",
    "    title = ds.attrs['title']\n",
    "    history = ds.history\n",
    "    now = datetime.now().strftime(\"%m/%d/%Y, %H:%M:%S\")\n",
    "    ax.set_title(f\"Image generated on {now}\\n\\n{title}\\n{history}\");\n",
    "    \n",
    "    cbar = fig.colorbar(im, ax=ax)\n",
    "    long_name = da.attrs['long_name']\n",
    "    if variable != 'salt':\n",
    "        units = da.attrs['units']\n",
    "        cbar.set_label(f'{long_name} ({units})')\n",
    "    else:\n",
    "        cbar.set_label(f'{long_name}')\n",
    "    \n",
    "    indexfile = f'docs/index.html'\n",
    "    outfile = f'docs/{variable}.png'\n",
    "    \n",
    "    if not os.path.exists('./docs'):\n",
    "        os.makedirs('./docs')\n",
    "\n",
    "    imagename = outfile.split('/')[-1]\n",
    "\n",
    "    plt.savefig(outfile, bbox_inches='tight')\n",
    "                 \n",
    "    if s3upload:\n",
    "        s3 = S3Storage()\n",
    "        bucket = 'ioos-cloud-www'\n",
    "        s3.uploadFile(outfile, bucket, f'{variable}.png', public = True)\n",
    "\n",
    "    return imagename\n"
   ]
  },
  {
   "cell_type": "code",
   "execution_count": null,
   "metadata": {},
   "outputs": [],
   "source": [
    "def main(argv):\n",
    "\n",
    "    COMDIR = argv[1]\n",
    "    OFS = argv[2]\n",
    "    HH = argv[3]\n",
    "\n",
    "    print(f'COMDIR is: {COMDIR}')\n",
    "    print(f'OFS is: {OFS}')\n",
    "    print(f'HH is: {HH}')\n",
    "    print('Running ...')\n",
    "\n",
    "\n",
    "    # could check that this is a roms model\n",
    "    # if ofs in utils.roms_models then do roms\n",
    "    # else if ofs in utils.fvcom_models then do fvcom\n",
    "\n",
    "    ds_roms = roms_nosofs(COMDIR, OFS, HH)\n",
    "    indexfile = f'docs/index.html'\n",
    "    if not os.path.exists('./docs'):\n",
    "        os.makedirs('./docs')\n",
    "\n",
    "    bucket = 'ioos-cloud-www'\n",
    "\n",
    "    storageService = S3Storage()\n",
    "\n",
    "    rho_vars = ['temp',\"zeta\", \"salt\" ]\n",
    "\n",
    "    imagelist = []\n",
    "\n",
    "    for var in rho_vars:\n",
    "        imagename = plot_rho(ds_roms, var, s3upload=True)\n",
    "        imagelist.append(imagename)\n",
    "\n",
    "    make_indexhtml(indexfile, imagelist)\n",
    "    storageService.uploadFile(indexfile, bucket, 'index.html', public=True, text=True)\n",
    "    \n",
    "    print('Finished ...')\n",
    "#    return ds_roms\n",
    "\n",
    "    "
   ]
  },
  {
   "cell_type": "code",
   "execution_count": null,
   "metadata": {},
   "outputs": [],
   "source": [
    "COMDIR='/com/nos/cbofs.2020081800'\n",
    "OFS='cbofs'\n",
    "HH='00'"
   ]
  },
  {
   "cell_type": "code",
   "execution_count": null,
   "metadata": {},
   "outputs": [],
   "source": [
    "main(['none',COMDIR,OFS,HH])"
   ]
  },
  {
   "cell_type": "code",
   "execution_count": null,
   "metadata": {},
   "outputs": [],
   "source": [
    "from cloudflow.workflows import flows\n",
    "\n",
    "flows.inject_notebook()"
   ]
  },
  {
   "cell_type": "code",
   "execution_count": null,
   "metadata": {},
   "outputs": [],
   "source": []
  }
 ],
 "metadata": {
  "kernelspec": {
   "display_name": "Python 3",
   "language": "python",
   "name": "python3"
  },
  "language_info": {
   "codemirror_mode": {
    "name": "ipython",
    "version": 3
   },
   "file_extension": ".py",
   "mimetype": "text/x-python",
   "name": "python",
   "nbconvert_exporter": "python",
   "pygments_lexer": "ipython3",
   "version": "3.7.3"
  }
 },
 "nbformat": 4,
 "nbformat_minor": 4
}
