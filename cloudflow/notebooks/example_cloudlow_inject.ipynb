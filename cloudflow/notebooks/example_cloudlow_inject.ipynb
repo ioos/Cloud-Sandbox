{
 "cells": [
  {
   "cell_type": "code",
   "execution_count": null,
   "metadata": {},
   "outputs": [],
   "source": [
    "print('Instructions Here are optional. This cell is included in the exported .py file')"
   ]
  },
  {
   "cell_type": "code",
   "execution_count": null,
   "metadata": {},
   "outputs": [],
   "source": [
    "print(\"Hello World!\")\n",
    "print(\"Hello World!\")\n",
    "print(\"Hello World!\")"
   ]
  },
  {
   "cell_type": "markdown",
   "metadata": {},
   "source": [
    "After running the next cell, open a terminal and you should be able to see the file in the S3 bucket:\n",
    "\n",
    "Example for username: patrick:\n",
    "\n",
    "! aws s3 ls s3://ioos-cloud-sandbox/cloudflow/inject/patrick/"
   ]
  },
  {
   "cell_type": "code",
   "execution_count": null,
   "metadata": {},
   "outputs": [],
   "source": [
    "''' This needs to be the last cell. One empty cell at the end is okay. But not two empty cells.\n",
    "    Make sure all changes to this file have been saved. \n",
    "    You do not need to clear the output for this cell before re-running it.'''\n",
    "\n",
    "from cloudflow.workflows import flows\n",
    "\n",
    "flows.inject_notebook()"
   ]
  },
  {
   "cell_type": "code",
   "execution_count": null,
   "metadata": {},
   "outputs": [],
   "source": []
  }
 ],
 "metadata": {
  "kernelspec": {
   "display_name": "Python 3",
   "language": "python",
   "name": "python3"
  },
  "language_info": {
   "codemirror_mode": {
    "name": "ipython",
    "version": 3
   },
   "file_extension": ".py",
   "mimetype": "text/x-python",
   "name": "python",
   "nbconvert_exporter": "python",
   "pygments_lexer": "ipython3",
   "version": "3.7.7"
  }
 },
 "nbformat": 4,
 "nbformat_minor": 4
}
