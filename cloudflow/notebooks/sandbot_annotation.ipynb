{
 "cells": [
  {
   "cell_type": "code",
   "execution_count": null,
   "metadata": {},
   "outputs": [],
   "source": [
    "import sys\n",
    "import os\n",
    "import boto3\n",
    "import cmocean\n",
    "import cartopy.crs as ccrs\n",
    "import cartopy.feature as cfeature\n",
    "from datetime import datetime\n",
    "from matplotlib import image\n",
    "import matplotlib.pyplot as plt\n",
    "import numpy as np\n",
    "from xarray import open_mfdataset\n",
    "\n",
    "import numpy as np\n",
    "import netCDF4\n",
    "\n",
    "DEBUG = True"
   ]
  },
  {
   "cell_type": "code",
   "execution_count": null,
   "metadata": {},
   "outputs": [],
   "source": [
    "def roms_nosofs(COMDIR: str, OFS: str, HH: str):\n",
    "    '''Load ROMS NOSOFS dataset'''\n",
    "\n",
    "    filespec = f'{COMDIR}/nos.{OFS}.fields.f*.t{HH}z.nc'\n",
    "    print(f'filespec is: {filespec}')\n",
    "    return open_mfdataset(filespec, decode_times=False, combine='by_coords')"
   ]
  },
  {
   "cell_type": "code",
   "execution_count": null,
   "metadata": {},
   "outputs": [],
   "source": [
    "def dsofs_curr_fcst(COMROT: str='/com/nos'):\n",
    "    \"\"\" Load the currently run OFS forecast on COMROT \n",
    "    This is almost the same as dosfs_newest, but will work better\n",
    "    when running when injected in a workflow.\n",
    "    It depends on a file being present in COMROT 'current.fcst'\n",
    "    \"\"\"\n",
    "    \n",
    "    cur_file = f'{COMROT}/current.fcst'\n",
    "    with open(cur_file) as cf:\n",
    "        fcst = cf.read().rstrip(' \\n')\n",
    "    \n",
    "    print('fcst: ', fcst)\n",
    "    \n",
    "    COMDIR = f'{COMROT}/{fcst}'\n",
    "    print('COMDIR: ', COMDIR)\n",
    "\n",
    "    OFS = fcst.split('.')[0]\n",
    "    fcstdate = fcst.split('.')[-1]\n",
    "    HH = fcstdate[8:10]\n",
    "    \n",
    "    if DEBUG: # Only grab first 0-9 hours. Faster!\n",
    "        filespec = f'{COMDIR}/nos.{OFS}.fields.f00*.t{HH}z.nc'\n",
    "    else: # Grab all hours\n",
    "        filespec = f'{COMDIR}/nos.{OFS}.fields.f*.t{HH}z.nc'\n",
    "        \n",
    "    print(f'filespec is: {filespec}')\n",
    "    return open_mfdataset(filespec, decode_times=False, combine='by_coords')\n",
    "    "
   ]
  },
  {
   "cell_type": "code",
   "execution_count": null,
   "metadata": {},
   "outputs": [],
   "source": [
    "def plot_rho(ds, variable, s3upload=False) -> str:\n",
    "    \n",
    "    sample_time = 5\n",
    "    OFS = ds_ofs.file.split('.')[1]\n",
    "    \n",
    "    if variable == 'zeta':\n",
    "        da = ds[variable].isel(ocean_time=sample_time)\n",
    "        cmap = cmocean.cm.phase\n",
    "    if variable == 'temp':\n",
    "        da = ds[variable].isel(ocean_time=sample_time, s_rho=0)\n",
    "        cmap = cmocean.cm.thermal\n",
    "    if variable == 'salt':\n",
    "        da = ds[variable].isel(ocean_time=sample_time, s_rho=0)\n",
    "        cmap = cmocean.cm.haline\n",
    "    if variable == 'oxygen':\n",
    "        da = ds[variable].isel(ocean_time=sample_time, s_rho=0)\n",
    "        cmap = cmocean.cm.oxy\n",
    "    if variable == 'Pair':\n",
    "        da = ds[variable].isel(ocean_time=sample_time)\n",
    "        cmap = cmocean.cm.diff\n",
    "      \n",
    "    fig = plt.figure()\n",
    "    \n",
    "    ax = fig.add_axes([0, 0.15, 1, 1], projection=ccrs.PlateCarree())\n",
    "    im = ax.contourf(\n",
    "        da.lon_rho, da.lat_rho, da.values,\n",
    "        transform=ccrs.PlateCarree(),\n",
    "        cmap=cmap\n",
    "    )\n",
    "    \n",
    "    coast_10m = cfeature.NaturalEarthFeature(\n",
    "        'physical', 'land', '10m',\n",
    "        edgecolor='k', facecolor='0.8'\n",
    "    )\n",
    "    ax.add_feature(coast_10m);\n",
    "    \n",
    "    long_name = da.attrs['long_name']\n",
    "    start = ds.ocean_time.isel(ocean_time=0)\n",
    "    sample = da.ocean_time\n",
    "    end = ds.ocean_time.isel(ocean_time=-1)\n",
    "    \n",
    "    start_str = f\"Start: {netCDF4.num2date(start, start.units)}\"\n",
    "    sample_str = f\"Sample: {netCDF4.num2date(sample, sample.units)}\"\n",
    "    end_str = f\"End: {netCDF4.num2date(end, end.units)}\"\n",
    "    now_str = f\"Image generated: {datetime.now().strftime('%Y-%m-%d %H:%M:%S')}\"\n",
    "    \n",
    "    title = f\"{str.upper(OFS)} {str.title(da.attrs['long_name'])}\"\n",
    "    ax.set_title(f'{title}\\n{start_str}\\n{sample_str}\\n{end_str}\\n{now_str}')\n",
    "    \n",
    "    cbar = fig.colorbar(im, ax=ax)\n",
    "\n",
    "    img = image.imread('docs/rps_small.png')\n",
    "    logo_axis = fig.add_axes([0.265, 0, 0.2, 0.1])\n",
    "    logo_axis.imshow(img, interpolation='hanning')\n",
    "    logo_axis.axis('off')\n",
    "    \n",
    "    plt.savefig('docs/roms_test.png', bbox_inches='tight')\n",
    "    \n",
    "    return fig.get_size_inches()"
   ]
  },
  {
   "cell_type": "code",
   "execution_count": null,
   "metadata": {},
   "outputs": [],
   "source": [
    " #ds_ofs = dsofs_latest()\n",
    "ds_ofs = dsofs_curr_fcst()"
   ]
  },
  {
   "cell_type": "code",
   "execution_count": null,
   "metadata": {},
   "outputs": [],
   "source": [
    "rho_vars = ['temp', 'zeta', 'salt']\n",
    "var = np.random.choice(rho_vars)\n",
    "\n",
    "plot_rho(ds_ofs, var)"
   ]
  }
 ],
 "metadata": {
  "kernelspec": {
   "display_name": "Python 3",
   "language": "python",
   "name": "python3"
  },
  "language_info": {
   "codemirror_mode": {
    "name": "ipython",
    "version": 3
   },
   "file_extension": ".py",
   "mimetype": "text/x-python",
   "name": "python",
   "nbconvert_exporter": "python",
   "pygments_lexer": "ipython3",
   "version": "3.7.3"
  }
 },
 "nbformat": 4,
 "nbformat_minor": 4
}
