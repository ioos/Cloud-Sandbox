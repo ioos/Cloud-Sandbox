{
 "cells": [
  {
   "cell_type": "code",
   "execution_count": null,
   "metadata": {},
   "outputs": [],
   "source": [
    "import sys\n",
    "import os\n",
    "import glob\n",
    "from datetime import datetime\n",
    "import re\n",
    "\n",
    "import boto3\n",
    "import cmocean\n",
    "import cartopy.crs as ccrs\n",
    "import cartopy.feature as cfeature\n",
    "import matplotlib.pyplot as plt\n",
    "import numpy as np\n",
    "from xarray import open_mfdataset\n",
    "from netCDF4 import MFDataset, num2date\n",
    "from matplotlib import image\n",
    "\n",
    "from cloudflow.services.S3Storage import S3Storage\n",
    "from cloudflow.job.Plotting import Plotting\n",
    "from cloudflow.utils import romsUtil as utils\n",
    "\n",
    "DEBUG = True"
   ]
  },
  {
   "cell_type": "code",
   "execution_count": null,
   "metadata": {},
   "outputs": [],
   "source": [
    "def roms_nosofs(COMDIR: str, OFS: str, HH: str):\n",
    "    '''Load ROMS NOSOFS dataset'''\n",
    "\n",
    "    filespec = f'{COMDIR}/nos.{OFS}.fields.f*.t{HH}z.nc'\n",
    "    print(f'filespec is: {filespec}')\n",
    "    return open_mfdataset(filespec, decode_times=False, combine='by_coords')"
   ]
  },
  {
   "cell_type": "code",
   "execution_count": null,
   "metadata": {},
   "outputs": [],
   "source": [
    "def dsofs_curr_fcst(COMROT: str='/com/nos'):\n",
    "    \"\"\" Load the currently run OFS forecast on COMROT \n",
    "    This is almost the same as dosfs_newest, but will work better\n",
    "    when running when injected in a workflow.\n",
    "    It depends on a file being present in COMROT 'current.fcst'\n",
    "    \"\"\"\n",
    "    \n",
    "    dataset = '' #'current' #'testing'\n",
    "    \n",
    "    if dataset:\n",
    "        cur_file = f'{COMROT}/{dataset}.fcst'\n",
    "        with open(cur_file) as cf:\n",
    "            fcst = cf.read().rstrip(' \\n')\n",
    "    else:\n",
    "        fcst = 'cbofs.2020082500'\n",
    "\n",
    "    print('fcst: ', fcst)\n",
    "    \n",
    "    COMDIR = f'{COMROT}/{fcst}'\n",
    "    print('COMDIR: ', COMDIR)\n",
    "\n",
    "    OFS = fcst.split('.')[0]\n",
    "    fcstdate = fcst.split('.')[-1]\n",
    "    HH = fcstdate[8:10]\n",
    "    \n",
    "    if DEBUG: # Only grab first 0-9 hours. Faster!\n",
    "        filespec = f'{COMDIR}/nos.{OFS}.fields.f00*.t{HH}z.nc'\n",
    "    else: # Grab all hours\n",
    "        filespec = f'{COMDIR}/nos.{OFS}.fields.f*.t{HH}z.nc'\n",
    "        \n",
    "    print(f'filespec is: {filespec}')\n",
    "    if OFS in utils.roms_models:\n",
    "        return open_mfdataset(filespec, decode_times=False, combine='by_coords')\n",
    "    elif OFS in utils.fvcom_models:\n",
    "        return MFDataset(filespec)\n",
    "    else:\n",
    "        print(f\"ERROR: model not recognized: {OFS}\")\n",
    "        return None"
   ]
  },
  {
   "cell_type": "code",
   "execution_count": null,
   "metadata": {},
   "outputs": [],
   "source": [
    " #ds_ofs = dsofs_latest()\n",
    "ds_ofs = dsofs_curr_fcst()"
   ]
  },
  {
   "cell_type": "code",
   "execution_count": null,
   "metadata": {},
   "outputs": [],
   "source": [
    "def plot_rho(ds, variable, s3upload=False) -> str:\n",
    "    \n",
    "    sample_time = 5\n",
    "    OFS = ds.file.split('.')[1]\n",
    "    \n",
    "    if variable == 'zeta':\n",
    "        da = ds[variable].isel(ocean_time=sample_time)\n",
    "        cmap = cmocean.cm.phase\n",
    "    if variable == 'temp':\n",
    "        da = ds[variable].isel(ocean_time=sample_time, s_rho=0)\n",
    "        cmap = cmocean.cm.thermal\n",
    "    if variable == 'salt':\n",
    "        da = ds[variable].isel(ocean_time=sample_time, s_rho=0)\n",
    "        cmap = cmocean.cm.haline\n",
    "    if variable == 'oxygen':\n",
    "        da = ds[variable].isel(ocean_time=sample_time, s_rho=0)\n",
    "        cmap = cmocean.cm.oxy\n",
    "    if variable == 'Pair':\n",
    "        da = ds[variable].isel(ocean_time=sample_time)\n",
    "        cmap = cmocean.cm.diff\n",
    "      \n",
    "\n",
    "#     fig = plt.figure(figsize=(12,5))\n",
    "    fig = plt.figure()\n",
    "#     fig = plt.figure(figsize=(12,8))\n",
    "    print(f'figsize={fig.get_size_inches()}')\n",
    "    \n",
    "    ax = fig.add_axes([0, 0.1, 1, 1], projection=ccrs.PlateCarree())\n",
    "    im = ax.contourf(\n",
    "        da.lon_rho, da.lat_rho, da.values,\n",
    "        transform=ccrs.PlateCarree(),\n",
    "        cmap=cmap\n",
    "    )\n",
    "    \n",
    "    coast_10m = cfeature.NaturalEarthFeature(\n",
    "        'physical', 'land', '10m',\n",
    "        edgecolor='k', facecolor='0.8'\n",
    "    )\n",
    "    ax.add_feature(coast_10m);\n",
    "    \n",
    "    \n",
    "    title = ds.title\n",
    "    init = ds.ocean_time.isel(ocean_time=0)\n",
    "    init_str = f\"INIT: {num2date(init, init.units)}\"\n",
    "    valid = da.ocean_time\n",
    "    valid_str = f\"VALID: {num2date(valid, valid.units)}\"\n",
    "    datestrfmt = '%b %d, %Y %H:%M %Z' #'%Y-%m-%d %H:%M:%S'\n",
    "    now_str = f\"Image generated:\\n{datetime.now().strftime(datestrfmt)}\"\n",
    "    ax.set_title(f'{title}\\n{init_str}\\n{valid_str}')\n",
    "    \n",
    "    long_name = da.attrs['long_name']\n",
    "    cbar = fig.colorbar(im, ax=ax)\n",
    "    if variable != 'salt':\n",
    "        units = da.units\n",
    "        cbar.set_label(f'{long_name} ({units})')\n",
    "    else:\n",
    "        cbar.set_label(f'{long_name}')\n",
    "\n",
    "    img = image.imread('docs/rps_small.png')\n",
    "    bbox = ax.get_position().bounds\n",
    "    logo_axis = fig.add_axes([bbox[0], 0.0, 0.15, 0.075])\n",
    "    logo_axis.imshow(img, interpolation='hanning')\n",
    "    logo_axis.axis('off')\n",
    "    \n",
    "    datestrfmt = '%b %d, %Y %H:%M %Z' # https://docs.python.org/3/library/datetime.html#aware-and-naive-objects\n",
    "    now_str = f\"Image generated:\\n{datetime.now().strftime(datestrfmt)}\"\n",
    "    fig.text(0.55, 0.0, f'{now_str}')\n",
    "    \n",
    "    return ax, logo_axis\n",
    "    "
   ]
  },
  {
   "cell_type": "code",
   "execution_count": null,
   "metadata": {},
   "outputs": [],
   "source": [
    "rho_vars = ['temp', 'zeta', 'salt']\n",
    "var = np.random.choice(rho_vars)\n",
    "\n",
    "ax1, ax2 = plot_rho(ds_ofs, var)"
   ]
  },
  {
   "cell_type": "code",
   "execution_count": null,
   "metadata": {},
   "outputs": [],
   "source": [
    "bbox1 = ax1.get_position()\n",
    "bbox2 = ax2.get_position()"
   ]
  },
  {
   "cell_type": "code",
   "execution_count": null,
   "metadata": {},
   "outputs": [],
   "source": [
    "bbox1"
   ]
  },
  {
   "cell_type": "code",
   "execution_count": null,
   "metadata": {},
   "outputs": [],
   "source": [
    "bbox1.bounds"
   ]
  },
  {
   "cell_type": "code",
   "execution_count": null,
   "metadata": {},
   "outputs": [],
   "source": [
    "bbox1.min"
   ]
  },
  {
   "cell_type": "code",
   "execution_count": null,
   "metadata": {},
   "outputs": [],
   "source": [
    "bbox1.max"
   ]
  },
  {
   "cell_type": "code",
   "execution_count": null,
   "metadata": {},
   "outputs": [],
   "source": [
    "bbox1.bounds[2]"
   ]
  },
  {
   "cell_type": "code",
   "execution_count": null,
   "metadata": {},
   "outputs": [],
   "source": [
    "bbox1.max[0] - bbox1.bounds[2]"
   ]
  },
  {
   "cell_type": "code",
   "execution_count": null,
   "metadata": {},
   "outputs": [],
   "source": []
  }
 ],
 "metadata": {
  "kernelspec": {
   "display_name": "Python 3",
   "language": "python",
   "name": "python3"
  },
  "language_info": {
   "codemirror_mode": {
    "name": "ipython",
    "version": 3
   },
   "file_extension": ".py",
   "mimetype": "text/x-python",
   "name": "python",
   "nbconvert_exporter": "python",
   "pygments_lexer": "ipython3",
   "version": "3.7.7"
  }
 },
 "nbformat": 4,
 "nbformat_minor": 4
}
